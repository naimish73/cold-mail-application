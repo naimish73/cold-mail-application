{
 "cells": [
  {
   "cell_type": "code",
   "execution_count": 58,
   "metadata": {},
   "outputs": [],
   "source": [
    "import pandas as pd\n",
    "import yagmail"
   ]
  },
  {
   "cell_type": "code",
   "execution_count": 59,
   "metadata": {},
   "outputs": [],
   "source": [
    "def process_text(file_path, csv_data):\n",
    "    global count\n",
    "    with open(file_path, 'r') as file:\n",
    "        text = file.read()\n",
    "\n",
    "    for index, row in csv_data.iterrows():\n",
    "        # Replace placeholders with CSV data\n",
    "        replaced_text = text.replace('<Company Name>', row['Company name'])\n",
    "        # Send email if email is not null\n",
    "        if pd.notnull(row['Email']) and pd.notnull(row['First name']) and pd.notnull(row['Company name']):\n",
    "            count = count + 1\n",
    "            send_email(row['First name'], row['Email'], row['Company name'], replaced_text)\n"
   ]
  },
  {
   "cell_type": "code",
   "execution_count": 60,
   "metadata": {},
   "outputs": [],
   "source": [
    "def send_email(first_name, email, company_name, text):\n",
    "    # Create yagmail SMTP connection\n",
    "    yag = yagmail.SMTP('naimishbbhuva@gmail.com', 'bbxp zutk dpxe ppeb')\n",
    "\n",
    "    # Compose email\n",
    "    subject = f\"Seeking Summer Internship: Data Science Enthusiast\"\n",
    "    body = f\"Dear {first_name},\\n\\n{text}\"\n",
    "    attachment = \"Naimish Bhuva.pdf\"  # Assuming the PDF is in the same directory as the script\n",
    "\n",
    "    # Send email\n",
    "    yag.send(to=email, subject=subject, contents=[body, attachment])"
   ]
  },
  {
   "cell_type": "code",
   "execution_count": 61,
   "metadata": {},
   "outputs": [
    {
     "name": "stdout",
     "output_type": "stream",
     "text": [
      "done 63\n"
     ]
    }
   ],
   "source": [
    "count = 0\n",
    "\n",
    "csv_data = pd.read_csv(\"data.csv\")\n",
    "\n",
    "process_text(\"file.txt\", csv_data)\n",
    "\n",
    "print('done', count)"
   ]
  }
 ],
 "metadata": {
  "kernelspec": {
   "display_name": "Python 3",
   "language": "python",
   "name": "python3"
  },
  "language_info": {
   "codemirror_mode": {
    "name": "ipython",
    "version": 3
   },
   "file_extension": ".py",
   "mimetype": "text/x-python",
   "name": "python",
   "nbconvert_exporter": "python",
   "pygments_lexer": "ipython3",
   "version": "3.10.12"
  }
 },
 "nbformat": 4,
 "nbformat_minor": 2
}
